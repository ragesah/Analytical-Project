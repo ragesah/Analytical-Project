{
 "cells": [
  {
   "cell_type": "markdown",
   "id": "fe0aa8ce",
   "metadata": {},
   "source": [
    "# This Notebook contains solutions for both Question1 and Question2"
   ]
  },
  {
   "cell_type": "code",
   "execution_count": 1,
   "id": "8aa0d69d",
   "metadata": {},
   "outputs": [],
   "source": [
    "### Load Packages\n",
    "import pandas as pd\n",
    "import numpy as np\n",
    "import matplotlib.pyplot as plt\n",
    "import seaborn as sns\n",
    "import warnings\n",
    "warnings.filterwarnings('ignore')"
   ]
  },
  {
   "cell_type": "code",
   "execution_count": 2,
   "id": "f3f02c7f",
   "metadata": {},
   "outputs": [],
   "source": [
    "## Global Variables\n",
    "PATH = 'dataset/'\n",
    "fico = 'FICO'\n",
    "region = 'region'\n",
    "acct_id = 'acct_id'\n",
    "FICO_RANGE = (300,850)"
   ]
  },
  {
   "cell_type": "markdown",
   "id": "5fedb3c5",
   "metadata": {},
   "source": [
    "## Question1"
   ]
  },
  {
   "cell_type": "code",
   "execution_count": 3,
   "id": "d0517f65",
   "metadata": {},
   "outputs": [],
   "source": [
    "# Loading datasets\n",
    "cm_region_data = pd.read_csv(PATH+'FDS_written_test_data1_region.csv')\n",
    "cm_fico_score_data = pd.read_csv(PATH+'FDS_written_test_data1_fico.csv')"
   ]
  },
  {
   "cell_type": "code",
   "execution_count": 4,
   "id": "138381a2",
   "metadata": {},
   "outputs": [
    {
     "name": "stdout",
     "output_type": "stream",
     "text": [
      "(100013, 2)\n",
      "(100173, 2)\n"
     ]
    }
   ],
   "source": [
    "## size of the dataset\n",
    "print(cm_fico_score_data.shape)\n",
    "print(cm_region_data.shape)"
   ]
  },
  {
   "cell_type": "code",
   "execution_count": 5,
   "id": "bee0022d",
   "metadata": {},
   "outputs": [
    {
     "data": {
      "text/html": [
       "<div>\n",
       "<style scoped>\n",
       "    .dataframe tbody tr th:only-of-type {\n",
       "        vertical-align: middle;\n",
       "    }\n",
       "\n",
       "    .dataframe tbody tr th {\n",
       "        vertical-align: top;\n",
       "    }\n",
       "\n",
       "    .dataframe thead th {\n",
       "        text-align: right;\n",
       "    }\n",
       "</style>\n",
       "<table border=\"1\" class=\"dataframe\">\n",
       "  <thead>\n",
       "    <tr style=\"text-align: right;\">\n",
       "      <th></th>\n",
       "      <th>acct_id</th>\n",
       "      <th>FICO</th>\n",
       "    </tr>\n",
       "  </thead>\n",
       "  <tbody>\n",
       "    <tr>\n",
       "      <th>0</th>\n",
       "      <td>1</td>\n",
       "      <td>768</td>\n",
       "    </tr>\n",
       "    <tr>\n",
       "      <th>1</th>\n",
       "      <td>2</td>\n",
       "      <td>850</td>\n",
       "    </tr>\n",
       "    <tr>\n",
       "      <th>2</th>\n",
       "      <td>3</td>\n",
       "      <td>677</td>\n",
       "    </tr>\n",
       "    <tr>\n",
       "      <th>3</th>\n",
       "      <td>4</td>\n",
       "      <td>843</td>\n",
       "    </tr>\n",
       "    <tr>\n",
       "      <th>4</th>\n",
       "      <td>5</td>\n",
       "      <td>796</td>\n",
       "    </tr>\n",
       "  </tbody>\n",
       "</table>\n",
       "</div>"
      ],
      "text/plain": [
       "   acct_id FICO\n",
       "0        1  768\n",
       "1        2  850\n",
       "2        3  677\n",
       "3        4  843\n",
       "4        5  796"
      ]
     },
     "execution_count": 5,
     "metadata": {},
     "output_type": "execute_result"
    }
   ],
   "source": [
    "### sample data\n",
    "cm_fico_score_data.head()"
   ]
  },
  {
   "cell_type": "code",
   "execution_count": 6,
   "id": "e0ee82f4",
   "metadata": {},
   "outputs": [
    {
     "data": {
      "text/html": [
       "<div>\n",
       "<style scoped>\n",
       "    .dataframe tbody tr th:only-of-type {\n",
       "        vertical-align: middle;\n",
       "    }\n",
       "\n",
       "    .dataframe tbody tr th {\n",
       "        vertical-align: top;\n",
       "    }\n",
       "\n",
       "    .dataframe thead th {\n",
       "        text-align: right;\n",
       "    }\n",
       "</style>\n",
       "<table border=\"1\" class=\"dataframe\">\n",
       "  <thead>\n",
       "    <tr style=\"text-align: right;\">\n",
       "      <th></th>\n",
       "      <th>acct_id</th>\n",
       "      <th>region</th>\n",
       "    </tr>\n",
       "  </thead>\n",
       "  <tbody>\n",
       "    <tr>\n",
       "      <th>0</th>\n",
       "      <td>1</td>\n",
       "      <td>New York</td>\n",
       "    </tr>\n",
       "    <tr>\n",
       "      <th>1</th>\n",
       "      <td>2</td>\n",
       "      <td>Dallas</td>\n",
       "    </tr>\n",
       "    <tr>\n",
       "      <th>2</th>\n",
       "      <td>3</td>\n",
       "      <td>Los Angeles</td>\n",
       "    </tr>\n",
       "    <tr>\n",
       "      <th>3</th>\n",
       "      <td>4</td>\n",
       "      <td>Chicago</td>\n",
       "    </tr>\n",
       "    <tr>\n",
       "      <th>4</th>\n",
       "      <td>5</td>\n",
       "      <td>Philadelphia</td>\n",
       "    </tr>\n",
       "  </tbody>\n",
       "</table>\n",
       "</div>"
      ],
      "text/plain": [
       "   acct_id        region\n",
       "0        1      New York\n",
       "1        2        Dallas\n",
       "2        3   Los Angeles\n",
       "3        4       Chicago\n",
       "4        5  Philadelphia"
      ]
     },
     "execution_count": 6,
     "metadata": {},
     "output_type": "execute_result"
    }
   ],
   "source": [
    "cm_region_data.head()"
   ]
  },
  {
   "cell_type": "markdown",
   "id": "e00877de",
   "metadata": {},
   "source": [
    "### Task1"
   ]
  },
  {
   "cell_type": "code",
   "execution_count": 7,
   "id": "0d5e9100",
   "metadata": {},
   "outputs": [
    {
     "name": "stdout",
     "output_type": "stream",
     "text": [
      "<class 'pandas.core.frame.DataFrame'>\n",
      "RangeIndex: 100013 entries, 0 to 100012\n",
      "Data columns (total 2 columns):\n",
      " #   Column   Non-Null Count   Dtype \n",
      "---  ------   --------------   ----- \n",
      " 0   acct_id  100013 non-null  int64 \n",
      " 1   FICO     70398 non-null   object\n",
      "dtypes: int64(1), object(1)\n",
      "memory usage: 1.5+ MB\n"
     ]
    }
   ],
   "source": [
    "cm_fico_score_data.info() ## Column FICO data type is corrupted. "
   ]
  },
  {
   "cell_type": "code",
   "execution_count": 8,
   "id": "8cbf438d",
   "metadata": {},
   "outputs": [
    {
     "name": "stdout",
     "output_type": "stream",
     "text": [
      "AA\n",
      "SSS\n"
     ]
    }
   ],
   "source": [
    "## let's understand why the FICO column is object type.\n",
    "for i in cm_fico_score_data[fico].unique():\n",
    "    try:\n",
    "        if not i.isdigit():\n",
    "            print(i)\n",
    "    except:\n",
    "        pass\n",
    "### FICO values are text such as AA and SSS."
   ]
  },
  {
   "cell_type": "code",
   "execution_count": 9,
   "id": "50a4f854",
   "metadata": {},
   "outputs": [
    {
     "data": {
      "text/plain": [
       "acct_id    0\n",
       "region     0\n",
       "dtype: int64"
      ]
     },
     "execution_count": 9,
     "metadata": {},
     "output_type": "execute_result"
    }
   ],
   "source": [
    "## Null Count\n",
    "cm_region_data.isnull().sum() ### All Card Members (CMs) region is available - No Missing Values"
   ]
  },
  {
   "cell_type": "code",
   "execution_count": 10,
   "id": "8d25a948",
   "metadata": {},
   "outputs": [
    {
     "data": {
      "text/plain": [
       "acct_id        0\n",
       "FICO       29615\n",
       "dtype: int64"
      ]
     },
     "execution_count": 10,
     "metadata": {},
     "output_type": "execute_result"
    }
   ],
   "source": [
    "cm_fico_score_data.isnull().sum() ### 29615 CMs do not have FICO score"
   ]
  },
  {
   "cell_type": "markdown",
   "id": "a1a90b18",
   "metadata": {},
   "source": [
    "#### Observations: \n",
    "1. FICO score has corrupted values. The rational is as below -\n",
    "    1. FICO values ranges between 300-850. But the dataset shows minimum value of 1 and Maximum values of 100K.\n",
    "    2. Thus, any FICO score below 300 and above 850 are error data and should be excluded from analysis.   \n",
    "2. FICO values are texts such as AA and SSS. These are incorrect values and should be removed from data.\n",
    "3. 29615 card-members FICO score is missing (NULL value)."
   ]
  },
  {
   "cell_type": "code",
   "execution_count": 11,
   "id": "a8054416",
   "metadata": {
    "scrolled": true
   },
   "outputs": [
    {
     "data": {
      "text/plain": [
       "13"
      ]
     },
     "execution_count": 11,
     "metadata": {},
     "output_type": "execute_result"
    }
   ],
   "source": [
    "cm_region_data.duplicated().sum() ## 49 duplicate records found \n",
    "cm_fico_score_data.duplicated().sum() ## 13 duplicate records found"
   ]
  },
  {
   "cell_type": "code",
   "execution_count": 12,
   "id": "b31fadf3",
   "metadata": {},
   "outputs": [
    {
     "data": {
      "text/plain": [
       "array([   27,  2575,  5011,  5737,  6291,  7673,  8661, 10318, 11283,\n",
       "       13304, 14512, 15289, 15973, 16011, 18653, 19328, 19432, 20017,\n",
       "       20065, 21261, 21469, 21990, 22021, 22511, 24599, 24955, 26234,\n",
       "       26591, 27769, 28081, 34438, 34774, 35233, 35638, 35680, 35688,\n",
       "       35969, 36435, 36763, 37134, 37460, 37673, 38701, 40656, 41350,\n",
       "       41590, 42537, 43434, 43880], dtype=int64)"
      ]
     },
     "execution_count": 12,
     "metadata": {},
     "output_type": "execute_result"
    }
   ],
   "source": [
    "# These accounts have duplicate entries in region dataset.\n",
    "cm_region_data[cm_region_data.duplicated()]['acct_id'].unique()"
   ]
  },
  {
   "cell_type": "code",
   "execution_count": 13,
   "id": "e0e562a8",
   "metadata": {},
   "outputs": [
    {
     "data": {
      "text/html": [
       "<div>\n",
       "<style scoped>\n",
       "    .dataframe tbody tr th:only-of-type {\n",
       "        vertical-align: middle;\n",
       "    }\n",
       "\n",
       "    .dataframe tbody tr th {\n",
       "        vertical-align: top;\n",
       "    }\n",
       "\n",
       "    .dataframe thead th {\n",
       "        text-align: right;\n",
       "    }\n",
       "</style>\n",
       "<table border=\"1\" class=\"dataframe\">\n",
       "  <thead>\n",
       "    <tr style=\"text-align: right;\">\n",
       "      <th></th>\n",
       "      <th>acct_id</th>\n",
       "      <th>region</th>\n",
       "    </tr>\n",
       "  </thead>\n",
       "  <tbody>\n",
       "    <tr>\n",
       "      <th>26</th>\n",
       "      <td>27</td>\n",
       "      <td>Los Angeles</td>\n",
       "    </tr>\n",
       "    <tr>\n",
       "      <th>27</th>\n",
       "      <td>27</td>\n",
       "      <td>Los Angeles</td>\n",
       "    </tr>\n",
       "    <tr>\n",
       "      <th>28</th>\n",
       "      <td>27</td>\n",
       "      <td>Dallas</td>\n",
       "    </tr>\n",
       "  </tbody>\n",
       "</table>\n",
       "</div>"
      ],
      "text/plain": [
       "    acct_id       region\n",
       "26       27  Los Angeles\n",
       "27       27  Los Angeles\n",
       "28       27       Dallas"
      ]
     },
     "execution_count": 13,
     "metadata": {},
     "output_type": "execute_result"
    }
   ],
   "source": [
    "## Sample example\n",
    "cm_region_data[cm_region_data[acct_id]==27] ## row 27 is duplicate entry of row 26"
   ]
  },
  {
   "cell_type": "code",
   "execution_count": 14,
   "id": "082cae78",
   "metadata": {},
   "outputs": [
    {
     "data": {
      "text/plain": [
       "array([  140,   189,   190,   191,   192, 30501, 30502, 30503, 30504,\n",
       "       30505, 30506, 30507, 30508], dtype=int64)"
      ]
     },
     "execution_count": 14,
     "metadata": {},
     "output_type": "execute_result"
    }
   ],
   "source": [
    "# These accounts have duplicate entries.\n",
    "cm_fico_score_data[cm_fico_score_data.duplicated()]['acct_id'].unique()"
   ]
  },
  {
   "cell_type": "code",
   "execution_count": 15,
   "id": "85d3a3a8",
   "metadata": {},
   "outputs": [
    {
     "data": {
      "text/html": [
       "<div>\n",
       "<style scoped>\n",
       "    .dataframe tbody tr th:only-of-type {\n",
       "        vertical-align: middle;\n",
       "    }\n",
       "\n",
       "    .dataframe tbody tr th {\n",
       "        vertical-align: top;\n",
       "    }\n",
       "\n",
       "    .dataframe thead th {\n",
       "        text-align: right;\n",
       "    }\n",
       "</style>\n",
       "<table border=\"1\" class=\"dataframe\">\n",
       "  <thead>\n",
       "    <tr style=\"text-align: right;\">\n",
       "      <th></th>\n",
       "      <th>acct_id</th>\n",
       "      <th>FICO</th>\n",
       "    </tr>\n",
       "  </thead>\n",
       "  <tbody>\n",
       "    <tr>\n",
       "      <th>139</th>\n",
       "      <td>140</td>\n",
       "      <td>752</td>\n",
       "    </tr>\n",
       "    <tr>\n",
       "      <th>140</th>\n",
       "      <td>140</td>\n",
       "      <td>752</td>\n",
       "    </tr>\n",
       "  </tbody>\n",
       "</table>\n",
       "</div>"
      ],
      "text/plain": [
       "     acct_id FICO\n",
       "139      140  752\n",
       "140      140  752"
      ]
     },
     "execution_count": 15,
     "metadata": {},
     "output_type": "execute_result"
    }
   ],
   "source": [
    "## Sample example\n",
    "cm_fico_score_data[cm_fico_score_data[acct_id]==140] ## row 139 is duplicate entry of row 140"
   ]
  },
  {
   "cell_type": "code",
   "execution_count": 16,
   "id": "1d73ca5e",
   "metadata": {},
   "outputs": [],
   "source": [
    "## dropping duplicates\n",
    "cm_fico_score_data.drop_duplicates(inplace=True)\n",
    "cm_region_data.drop_duplicates(inplace=True)"
   ]
  },
  {
   "cell_type": "code",
   "execution_count": 17,
   "id": "887a6b24",
   "metadata": {},
   "outputs": [],
   "source": [
    "### Cleaning data: Marking rows with data problems as “Missing” in the FICO column\n",
    "cm_fico_score_data[fico] = cm_fico_score_data[fico].fillna('Missing')\n",
    "cm_fico_score_data[fico] = np.where(cm_fico_score_data[fico].isin(['AA','SSS']), 'Missing', cm_fico_score_data[fico])"
   ]
  },
  {
   "cell_type": "code",
   "execution_count": 18,
   "id": "9b8db0c8",
   "metadata": {
    "scrolled": true
   },
   "outputs": [
    {
     "name": "stdout",
     "output_type": "stream",
     "text": [
      "29614 rows have \"Missing\" values.\n",
      "70386 rows have valid FICO values.\n"
     ]
    }
   ],
   "source": [
    "## Splitting dataset to identify all Missing values\n",
    "cm_fico_score_data_p1 = cm_fico_score_data[~(cm_fico_score_data[fico]=='Missing')]\n",
    "cm_fico_score_data_p2 = cm_fico_score_data[(cm_fico_score_data[fico]=='Missing')]\n",
    "\n",
    "cm_fico_score_data_p1['FICO'] = cm_fico_score_data_p1['FICO'].astype(int)\n",
    "# cm_fico_score_data_p1[fico] = cm_fico_score_data_p1[fico].apply(lambda x: 'Missing' if ((x < FICO_RANGE[0]) | (x > FICO_RANGE[1])) else x )\n",
    "\n",
    "cm_fico_score_data_cp = pd.concat([cm_fico_score_data_p1, cm_fico_score_data_p2], axis=0) ## this has all issue rows marked with \"Missing\" values\n",
    "\n",
    "# print(cm_fico_score_data.shape)\n",
    "# print(cm_fico_score_data_cp.shape)\n",
    "\n",
    "print('{} rows have \"Missing\" values.'.format(cm_fico_score_data_cp[cm_fico_score_data_cp[fico]=='Missing'].shape[0]))\n",
    "print('{} rows have valid FICO values.'.format(cm_fico_score_data_cp[cm_fico_score_data_cp[fico]!='Missing'].shape[0]))\n",
    "\n",
    "\n",
    "### Splitting again to filter out correct FICO range values\n",
    "cm_fico_score_cdata = cm_fico_score_data_cp[~(cm_fico_score_data_cp[fico]=='Missing')] ## correct values\n",
    "cm_fico_score_idata = cm_fico_score_data_cp[(cm_fico_score_data_cp[fico]=='Missing')] ## issue values\n",
    "cm_fico_score_cdata['FICO'] = cm_fico_score_cdata['FICO'].astype(int)\n",
    "\n",
    "# print(cm_fico_score_cdata.shape)\n",
    "# print(cm_fico_score_idata.shape)\n",
    "# print(cm_fico_score_cdata.shape[0]+cm_fico_score_idata.shape[0])"
   ]
  },
  {
   "attachments": {
    "image-3.png": {
     "image/png": "[encoded data removed]"
    }
   },
   "cell_type": "markdown",
   "id": "f9791fd2",
   "metadata": {},
   "source": [
    "### Task2\n",
    "The account IDs are grouped into five segments based on FICO 'ratings'. The ratings are computed as per article: \n",
    "https://www.myfico.com/credit-education/what-is-a-fico-score\n",
    "\n",
    "\n",
    "![image-3.png](attachment:image-3.png)"
   ]
  },
  {
   "cell_type": "code",
   "execution_count": 19,
   "id": "9f0ae6d1",
   "metadata": {},
   "outputs": [
    {
     "data": {
      "text/html": [
       "<div>\n",
       "<style scoped>\n",
       "    .dataframe tbody tr th:only-of-type {\n",
       "        vertical-align: middle;\n",
       "    }\n",
       "\n",
       "    .dataframe tbody tr th {\n",
       "        vertical-align: top;\n",
       "    }\n",
       "\n",
       "    .dataframe thead th {\n",
       "        text-align: right;\n",
       "    }\n",
       "</style>\n",
       "<table border=\"1\" class=\"dataframe\">\n",
       "  <thead>\n",
       "    <tr style=\"text-align: right;\">\n",
       "      <th></th>\n",
       "      <th>acct_id</th>\n",
       "      <th>FICO</th>\n",
       "    </tr>\n",
       "  </thead>\n",
       "  <tbody>\n",
       "    <tr>\n",
       "      <th>count</th>\n",
       "      <td>70386.000000</td>\n",
       "      <td>70386.000000</td>\n",
       "    </tr>\n",
       "    <tr>\n",
       "      <th>mean</th>\n",
       "      <td>50280.373966</td>\n",
       "      <td>785.747066</td>\n",
       "    </tr>\n",
       "    <tr>\n",
       "      <th>std</th>\n",
       "      <td>27740.592764</td>\n",
       "      <td>64.603625</td>\n",
       "    </tr>\n",
       "    <tr>\n",
       "      <th>min</th>\n",
       "      <td>1.000000</td>\n",
       "      <td>420.000000</td>\n",
       "    </tr>\n",
       "    <tr>\n",
       "      <th>25%</th>\n",
       "      <td>26143.250000</td>\n",
       "      <td>749.000000</td>\n",
       "    </tr>\n",
       "    <tr>\n",
       "      <th>50%</th>\n",
       "      <td>49720.500000</td>\n",
       "      <td>804.000000</td>\n",
       "    </tr>\n",
       "    <tr>\n",
       "      <th>75%</th>\n",
       "      <td>73245.750000</td>\n",
       "      <td>839.000000</td>\n",
       "    </tr>\n",
       "    <tr>\n",
       "      <th>max</th>\n",
       "      <td>99992.000000</td>\n",
       "      <td>850.000000</td>\n",
       "    </tr>\n",
       "  </tbody>\n",
       "</table>\n",
       "</div>"
      ],
      "text/plain": [
       "            acct_id          FICO\n",
       "count  70386.000000  70386.000000\n",
       "mean   50280.373966    785.747066\n",
       "std    27740.592764     64.603625\n",
       "min        1.000000    420.000000\n",
       "25%    26143.250000    749.000000\n",
       "50%    49720.500000    804.000000\n",
       "75%    73245.750000    839.000000\n",
       "max    99992.000000    850.000000"
      ]
     },
     "execution_count": 19,
     "metadata": {},
     "output_type": "execute_result"
    }
   ],
   "source": [
    "cm_fico_score_cdata.describe()\n",
    "## the dataset has minimum FICO 420 and maximum FICO 850. "
   ]
  },
  {
   "cell_type": "code",
   "execution_count": 20,
   "id": "30cfa30a",
   "metadata": {},
   "outputs": [],
   "source": [
    "# cm_fico_score_cdata.describe()\n",
    "cm_fico_score_cdata['rating'] = cm_fico_score_cdata[fico].apply(lambda x: 'Exceptional' if x >= 800 else\n",
    "                                                               'very Good' if ((x >= 740) & (x < 800)) else\n",
    "                                                               'Good' if ((x >= 670) & (x < 740)) else\n",
    "                                                               'Fair' if ((x >= 580) & (x < 670)) else 'Poor')"
   ]
  },
  {
   "cell_type": "code",
   "execution_count": 21,
   "id": "abfdb612",
   "metadata": {},
   "outputs": [
    {
     "data": {
      "text/plain": [
       "rating\n",
       "Exceptional    36928\n",
       "Fair            3398\n",
       "Good           10979\n",
       "Poor             753\n",
       "very Good      18328\n",
       "Name: acct_id, dtype: int64"
      ]
     },
     "execution_count": 21,
     "metadata": {},
     "output_type": "execute_result"
    }
   ],
   "source": [
    "### Number of customers by each 'rating' group\n",
    "cm_fico_score_cdata.groupby('rating')['acct_id'].count() "
   ]
  },
  {
   "cell_type": "code",
   "execution_count": 22,
   "id": "d2b58bde",
   "metadata": {},
   "outputs": [
    {
     "data": {
      "image/png": "[encoded data removed]",
      "text/plain": [
       "<Figure size 432x432 with 1 Axes>"
      ]
     },
     "metadata": {},
     "output_type": "display_data"
    }
   ],
   "source": [
    "### Percentage of each segments\n",
    "x = cm_fico_score_cdata.groupby('rating')['acct_id'].count()\n",
    "labels = x.index\n",
    "sizes = x.values\n",
    "\n",
    "fig, ax = plt.subplots(figsize=(6,6))\n",
    "ax.pie(sizes, labels=labels, autopct='%1.1f%%')\n",
    "plt.show()"
   ]
  },
  {
   "cell_type": "code",
   "execution_count": 23,
   "id": "520e60d9",
   "metadata": {},
   "outputs": [
    {
     "data": {
      "image/png": "[encoded data removed]",
      "text/plain": [
       "<Figure size 1080x288 with 1 Axes>"
      ]
     },
     "metadata": {
      "needs_background": "light"
     },
     "output_type": "display_data"
    }
   ],
   "source": [
    "### Histogram distribution\n",
    "fig, ax = plt.subplots(1,1, figsize=(15,4))\n",
    "counts, edges, bars  = ax.hist(cm_fico_score_cdata['rating'])\n",
    "for n, b in zip(counts, edges):\n",
    "    if n > 0:\n",
    "        plt.gca().text(b + 0.1, int(n), int(n))\n",
    "ax.set_title('#CMs by FICO Rating')\n",
    "ax.set_xlabel('Ratings')\n",
    "ax.set_ylabel('#Accounts')\n",
    "plt.show()"
   ]
  },
  {
   "cell_type": "markdown",
   "id": "57390a97",
   "metadata": {},
   "source": [
    "### Task3\n",
    "1. The above plot shows above 52% of the account have 'Exceptional' FICO rating. This looks odd for two reasons: 1) This percentage is much higher than market range (market average ~20%) and 2) Practically, maintaining an exceptional rating is difficult tasks however, maintaining \"Good\" and \"Very Good\" is relatively much easy. This indicates data having potential issues.\n",
    "2. Ratings 'Fair' and 'Poor' account percentages are also very low (market average is 16-17%). \n",
    "3. Good and Very Good combined percentage is slightly lower than market ratings but can be ignored.\n",
    "3. It looks like many accounts have falsly received exceptional score although, they belong to bottom 2 rating ccategories.\n",
    "\n",
    "Overall summary, in general the data do not reflect real world FICO rating's. However, I must also say that the above distribution is possible for Amex cardholders. It is likely Amex cardholders (who are premium groups) may be maintaining 800+ FICO score. The final conclusion can be made only based on analysis which involves knowing more information."
   ]
  },
  {
   "cell_type": "markdown",
   "id": "2998b20b",
   "metadata": {},
   "source": [
    "### Task4"
   ]
  },
  {
   "cell_type": "code",
   "execution_count": 24,
   "id": "d342c44a",
   "metadata": {},
   "outputs": [
    {
     "data": {
      "text/html": [
       "<div>\n",
       "<style scoped>\n",
       "    .dataframe tbody tr th:only-of-type {\n",
       "        vertical-align: middle;\n",
       "    }\n",
       "\n",
       "    .dataframe tbody tr th {\n",
       "        vertical-align: top;\n",
       "    }\n",
       "\n",
       "    .dataframe thead th {\n",
       "        text-align: right;\n",
       "    }\n",
       "</style>\n",
       "<table border=\"1\" class=\"dataframe\">\n",
       "  <thead>\n",
       "    <tr style=\"text-align: right;\">\n",
       "      <th></th>\n",
       "      <th>acct_id</th>\n",
       "      <th>FICO</th>\n",
       "      <th>rating</th>\n",
       "      <th>region</th>\n",
       "    </tr>\n",
       "  </thead>\n",
       "  <tbody>\n",
       "    <tr>\n",
       "      <th>0</th>\n",
       "      <td>1</td>\n",
       "      <td>768</td>\n",
       "      <td>very Good</td>\n",
       "      <td>New York</td>\n",
       "    </tr>\n",
       "    <tr>\n",
       "      <th>1</th>\n",
       "      <td>2</td>\n",
       "      <td>850</td>\n",
       "      <td>Exceptional</td>\n",
       "      <td>Dallas</td>\n",
       "    </tr>\n",
       "    <tr>\n",
       "      <th>2</th>\n",
       "      <td>3</td>\n",
       "      <td>677</td>\n",
       "      <td>Good</td>\n",
       "      <td>Los Angeles</td>\n",
       "    </tr>\n",
       "    <tr>\n",
       "      <th>3</th>\n",
       "      <td>4</td>\n",
       "      <td>843</td>\n",
       "      <td>Exceptional</td>\n",
       "      <td>Chicago</td>\n",
       "    </tr>\n",
       "    <tr>\n",
       "      <th>4</th>\n",
       "      <td>5</td>\n",
       "      <td>796</td>\n",
       "      <td>very Good</td>\n",
       "      <td>Philadelphia</td>\n",
       "    </tr>\n",
       "  </tbody>\n",
       "</table>\n",
       "</div>"
      ],
      "text/plain": [
       "   acct_id  FICO       rating        region\n",
       "0        1   768    very Good      New York\n",
       "1        2   850  Exceptional        Dallas\n",
       "2        3   677         Good   Los Angeles\n",
       "3        4   843  Exceptional       Chicago\n",
       "4        5   796    very Good  Philadelphia"
      ]
     },
     "execution_count": 24,
     "metadata": {},
     "output_type": "execute_result"
    }
   ],
   "source": [
    "temp_table = cm_fico_score_cdata.merge(cm_region_data, on='acct_id', how='left')\n",
    "temp_table.head()"
   ]
  },
  {
   "cell_type": "code",
   "execution_count": 25,
   "id": "2e7f39d9",
   "metadata": {},
   "outputs": [
    {
     "data": {
      "text/plain": [
       "region\n",
       "Charlotte       7091\n",
       "Chicago         6928\n",
       "Dallas          7273\n",
       "Houston         7065\n",
       "Los Angeles     6982\n",
       "New York        7071\n",
       "Philadelphia    6951\n",
       "Phoenix         7014\n",
       "San Antonio     7189\n",
       "San Diego       6946\n",
       "Name: acct_id, dtype: int64"
      ]
     },
     "execution_count": 25,
     "metadata": {},
     "output_type": "execute_result"
    }
   ],
   "source": [
    "temp_table.groupby('region')['acct_id'].count() ##"
   ]
  },
  {
   "cell_type": "code",
   "execution_count": 26,
   "id": "cb74f557",
   "metadata": {},
   "outputs": [
    {
     "data": {
      "text/html": [
       "<div>\n",
       "<style scoped>\n",
       "    .dataframe tbody tr th:only-of-type {\n",
       "        vertical-align: middle;\n",
       "    }\n",
       "\n",
       "    .dataframe tbody tr th {\n",
       "        vertical-align: top;\n",
       "    }\n",
       "\n",
       "    .dataframe thead th {\n",
       "        text-align: right;\n",
       "    }\n",
       "</style>\n",
       "<table border=\"1\" class=\"dataframe\">\n",
       "  <thead>\n",
       "    <tr style=\"text-align: right;\">\n",
       "      <th></th>\n",
       "      <th>region</th>\n",
       "      <th>avg_fico</th>\n",
       "    </tr>\n",
       "  </thead>\n",
       "  <tbody>\n",
       "    <tr>\n",
       "      <th>7</th>\n",
       "      <td>Phoenix</td>\n",
       "      <td>788.170231</td>\n",
       "    </tr>\n",
       "    <tr>\n",
       "      <th>4</th>\n",
       "      <td>Los Angeles</td>\n",
       "      <td>787.223002</td>\n",
       "    </tr>\n",
       "    <tr>\n",
       "      <th>3</th>\n",
       "      <td>Houston</td>\n",
       "      <td>786.005803</td>\n",
       "    </tr>\n",
       "    <tr>\n",
       "      <th>6</th>\n",
       "      <td>Philadelphia</td>\n",
       "      <td>785.773845</td>\n",
       "    </tr>\n",
       "    <tr>\n",
       "      <th>1</th>\n",
       "      <td>Chicago</td>\n",
       "      <td>785.643043</td>\n",
       "    </tr>\n",
       "  </tbody>\n",
       "</table>\n",
       "</div>"
      ],
      "text/plain": [
       "         region    avg_fico\n",
       "7       Phoenix  788.170231\n",
       "4   Los Angeles  787.223002\n",
       "3       Houston  786.005803\n",
       "6  Philadelphia  785.773845\n",
       "1       Chicago  785.643043"
      ]
     },
     "execution_count": 26,
     "metadata": {},
     "output_type": "execute_result"
    }
   ],
   "source": [
    "fico_by_region = temp_table.groupby('region')[fico].mean().reset_index().rename(columns={'FICO':'avg_fico'}).sort_values('avg_fico', ascending=False)\n",
    "fico_by_region.head() ## Descending Order of Average FICO"
   ]
  },
  {
   "cell_type": "code",
   "execution_count": 27,
   "id": "51187bb3",
   "metadata": {},
   "outputs": [
    {
     "data": {
      "text/html": [
       "<div>\n",
       "<style scoped>\n",
       "    .dataframe tbody tr th:only-of-type {\n",
       "        vertical-align: middle;\n",
       "    }\n",
       "\n",
       "    .dataframe tbody tr th {\n",
       "        vertical-align: top;\n",
       "    }\n",
       "\n",
       "    .dataframe thead th {\n",
       "        text-align: right;\n",
       "    }\n",
       "</style>\n",
       "<table border=\"1\" class=\"dataframe\">\n",
       "  <thead>\n",
       "    <tr style=\"text-align: right;\">\n",
       "      <th></th>\n",
       "      <th>region</th>\n",
       "      <th>avg_fico</th>\n",
       "    </tr>\n",
       "  </thead>\n",
       "  <tbody>\n",
       "    <tr>\n",
       "      <th>0</th>\n",
       "      <td>Charlotte</td>\n",
       "      <td>785.154280</td>\n",
       "    </tr>\n",
       "    <tr>\n",
       "      <th>5</th>\n",
       "      <td>New York</td>\n",
       "      <td>785.065903</td>\n",
       "    </tr>\n",
       "    <tr>\n",
       "      <th>8</th>\n",
       "      <td>San Antonio</td>\n",
       "      <td>784.508277</td>\n",
       "    </tr>\n",
       "    <tr>\n",
       "      <th>9</th>\n",
       "      <td>San Diego</td>\n",
       "      <td>784.076447</td>\n",
       "    </tr>\n",
       "    <tr>\n",
       "      <th>2</th>\n",
       "      <td>Dallas</td>\n",
       "      <td>782.102021</td>\n",
       "    </tr>\n",
       "  </tbody>\n",
       "</table>\n",
       "</div>"
      ],
      "text/plain": [
       "        region    avg_fico\n",
       "0    Charlotte  785.154280\n",
       "5     New York  785.065903\n",
       "8  San Antonio  784.508277\n",
       "9    San Diego  784.076447\n",
       "2       Dallas  782.102021"
      ]
     },
     "execution_count": 27,
     "metadata": {},
     "output_type": "execute_result"
    }
   ],
   "source": [
    "fico_by_region.tail()"
   ]
  },
  {
   "cell_type": "code",
   "execution_count": 28,
   "id": "5ce34ce2",
   "metadata": {},
   "outputs": [],
   "source": [
    "fico_by_region['rank'] = fico_by_region['avg_fico'].rank(method='min')\n",
    "# fico_by_region.head()\n",
    "# rank_of_interest \n",
    "second_highest = fico_by_region['rank'].unique()[1]\n",
    "lowest = fico_by_region['rank'].unique()[-1]"
   ]
  },
  {
   "cell_type": "code",
   "execution_count": 29,
   "id": "3b8a6a02",
   "metadata": {},
   "outputs": [
    {
     "data": {
      "text/html": [
       "<div>\n",
       "<style scoped>\n",
       "    .dataframe tbody tr th:only-of-type {\n",
       "        vertical-align: middle;\n",
       "    }\n",
       "\n",
       "    .dataframe tbody tr th {\n",
       "        vertical-align: top;\n",
       "    }\n",
       "\n",
       "    .dataframe thead th {\n",
       "        text-align: right;\n",
       "    }\n",
       "</style>\n",
       "<table border=\"1\" class=\"dataframe\">\n",
       "  <thead>\n",
       "    <tr style=\"text-align: right;\">\n",
       "      <th></th>\n",
       "      <th>region</th>\n",
       "      <th>avg_fico</th>\n",
       "    </tr>\n",
       "  </thead>\n",
       "  <tbody>\n",
       "    <tr>\n",
       "      <th>4</th>\n",
       "      <td>Los Angeles</td>\n",
       "      <td>787.223002</td>\n",
       "    </tr>\n",
       "    <tr>\n",
       "      <th>2</th>\n",
       "      <td>Dallas</td>\n",
       "      <td>782.102021</td>\n",
       "    </tr>\n",
       "  </tbody>\n",
       "</table>\n",
       "</div>"
      ],
      "text/plain": [
       "        region    avg_fico\n",
       "4  Los Angeles  787.223002\n",
       "2       Dallas  782.102021"
      ]
     },
     "execution_count": 29,
     "metadata": {},
     "output_type": "execute_result"
    }
   ],
   "source": [
    "# Regions with the second highest and lowest average FICO score\n",
    "fico_by_region[fico_by_region['rank'].isin([second_highest,lowest])][['region', 'avg_fico']]"
   ]
  },
  {
   "cell_type": "markdown",
   "id": "ab10b510",
   "metadata": {},
   "source": [
    "## Question2"
   ]
  },
  {
   "cell_type": "code",
   "execution_count": 30,
   "id": "5bed8659",
   "metadata": {
    "scrolled": true
   },
   "outputs": [
    {
     "name": "stdout",
     "output_type": "stream",
     "text": [
      "(406, 8)\n"
     ]
    },
    {
     "data": {
      "text/html": [
       "<div>\n",
       "<style scoped>\n",
       "    .dataframe tbody tr th:only-of-type {\n",
       "        vertical-align: middle;\n",
       "    }\n",
       "\n",
       "    .dataframe tbody tr th {\n",
       "        vertical-align: top;\n",
       "    }\n",
       "\n",
       "    .dataframe thead th {\n",
       "        text-align: right;\n",
       "    }\n",
       "</style>\n",
       "<table border=\"1\" class=\"dataframe\">\n",
       "  <thead>\n",
       "    <tr style=\"text-align: right;\">\n",
       "      <th></th>\n",
       "      <th>target</th>\n",
       "      <th>var1</th>\n",
       "      <th>var2</th>\n",
       "      <th>var3</th>\n",
       "      <th>var4</th>\n",
       "      <th>var5</th>\n",
       "      <th>var6</th>\n",
       "      <th>var7</th>\n",
       "    </tr>\n",
       "  </thead>\n",
       "  <tbody>\n",
       "    <tr>\n",
       "      <th>0</th>\n",
       "      <td>18.0</td>\n",
       "      <td>8</td>\n",
       "      <td>307.0</td>\n",
       "      <td>130.0</td>\n",
       "      <td>3504</td>\n",
       "      <td>12.0</td>\n",
       "      <td>70</td>\n",
       "      <td>1</td>\n",
       "    </tr>\n",
       "    <tr>\n",
       "      <th>1</th>\n",
       "      <td>15.0</td>\n",
       "      <td>8</td>\n",
       "      <td>350.0</td>\n",
       "      <td>165.0</td>\n",
       "      <td>3693</td>\n",
       "      <td>11.5</td>\n",
       "      <td>70</td>\n",
       "      <td>1</td>\n",
       "    </tr>\n",
       "    <tr>\n",
       "      <th>2</th>\n",
       "      <td>18.0</td>\n",
       "      <td>8</td>\n",
       "      <td>318.0</td>\n",
       "      <td>150.0</td>\n",
       "      <td>3436</td>\n",
       "      <td>11.0</td>\n",
       "      <td>70</td>\n",
       "      <td>1</td>\n",
       "    </tr>\n",
       "    <tr>\n",
       "      <th>3</th>\n",
       "      <td>16.0</td>\n",
       "      <td>8</td>\n",
       "      <td>304.0</td>\n",
       "      <td>150.0</td>\n",
       "      <td>3433</td>\n",
       "      <td>12.0</td>\n",
       "      <td>70</td>\n",
       "      <td>1</td>\n",
       "    </tr>\n",
       "    <tr>\n",
       "      <th>4</th>\n",
       "      <td>17.0</td>\n",
       "      <td>8</td>\n",
       "      <td>302.0</td>\n",
       "      <td>140.0</td>\n",
       "      <td>3449</td>\n",
       "      <td>10.5</td>\n",
       "      <td>70</td>\n",
       "      <td>1</td>\n",
       "    </tr>\n",
       "  </tbody>\n",
       "</table>\n",
       "</div>"
      ],
      "text/plain": [
       "   target  var1   var2   var3  var4  var5  var6  var7\n",
       "0    18.0     8  307.0  130.0  3504  12.0    70     1\n",
       "1    15.0     8  350.0  165.0  3693  11.5    70     1\n",
       "2    18.0     8  318.0  150.0  3436  11.0    70     1\n",
       "3    16.0     8  304.0  150.0  3433  12.0    70     1\n",
       "4    17.0     8  302.0  140.0  3449  10.5    70     1"
      ]
     },
     "execution_count": 30,
     "metadata": {},
     "output_type": "execute_result"
    }
   ],
   "source": [
    "train_data = pd.read_excel(PATH+'modeling_data.xlsx', sheet_name='Train')\n",
    "test_data = pd.read_excel(PATH+'modeling_data.xlsx', sheet_name='Test')\n",
    "print(train_data.shape)\n",
    "train_data.head() # sample rows"
   ]
  },
  {
   "cell_type": "markdown",
   "id": "2400812e",
   "metadata": {},
   "source": [
    "### Exploratory Data Analysis"
   ]
  },
  {
   "cell_type": "code",
   "execution_count": 31,
   "id": "125a7aba",
   "metadata": {},
   "outputs": [
    {
     "name": "stdout",
     "output_type": "stream",
     "text": [
      "<class 'pandas.core.frame.DataFrame'>\n",
      "RangeIndex: 406 entries, 0 to 405\n",
      "Data columns (total 8 columns):\n",
      " #   Column  Non-Null Count  Dtype  \n",
      "---  ------  --------------  -----  \n",
      " 0   target  398 non-null    float64\n",
      " 1   var1    406 non-null    int64  \n",
      " 2   var2    406 non-null    float64\n",
      " 3   var3    400 non-null    float64\n",
      " 4   var4    406 non-null    int64  \n",
      " 5   var5    406 non-null    float64\n",
      " 6   var6    406 non-null    int64  \n",
      " 7   var7    406 non-null    int64  \n",
      "dtypes: float64(4), int64(4)\n",
      "memory usage: 25.5 KB\n"
     ]
    }
   ],
   "source": [
    "train_data.info()\n",
    "## Target variable has 8 (approx. 2%) Missing values. Rows with Target Missing values will be excluded from dataset.\n",
    "\n",
    "## Feature variables do not have missing values. \n",
    "## Feature variables values ranges can not be validated as their true meaning is unknown.\n",
    "## Hence, no futher data checks are performed on feature variables and the values are used in its current form, assuming all values are correct."
   ]
  },
  {
   "cell_type": "code",
   "execution_count": 32,
   "id": "9aaec387",
   "metadata": {},
   "outputs": [
    {
     "data": {
      "image/png": "[encoded data removed]",
      "text/plain": [
       "<Figure size 432x288 with 1 Axes>"
      ]
     },
     "metadata": {
      "needs_background": "light"
     },
     "output_type": "display_data"
    }
   ],
   "source": [
    "# Target Analysis\n",
    "plt.hist(train_data.target, bins=10) \n",
    "plt.title('Target Variable Histogram')\n",
    "plt.xlabel('Target')\n",
    "plt.ylabel('Count')\n",
    "plt.show()\n",
    "### Histogram shows that the target variable has numerious discrete values. \n",
    "# Based on this info, considering the target as continous variable and this problem as regression problem (Not Classification)."
   ]
  },
  {
   "cell_type": "code",
   "execution_count": 33,
   "id": "26def4cc",
   "metadata": {},
   "outputs": [
    {
     "data": {
      "image/png": "[encoded data removed]",
      "text/plain": [
       "<Figure size 1080x432 with 9 Axes>"
      ]
     },
     "metadata": {
      "needs_background": "light"
     },
     "output_type": "display_data"
    }
   ],
   "source": [
    "## data distibution\n",
    "train_data.hist(figsize=(15,6))\n",
    "plt.tight_layout()\n",
    "plt.show()"
   ]
  },
  {
   "cell_type": "code",
   "execution_count": 34,
   "id": "a2087e4d",
   "metadata": {},
   "outputs": [
    {
     "name": "stdout",
     "output_type": "stream",
     "text": [
      "3\n",
      "5\n"
     ]
    }
   ],
   "source": [
    "print(train_data.var7.nunique())\n",
    "print(train_data.var1.nunique())"
   ]
  },
  {
   "cell_type": "markdown",
   "id": "25d78726",
   "metadata": {},
   "source": [
    "###### From Histogram\n",
    "1. Features: var7 and var1 looks to be discrete numerical types\n",
    "2. var2, var3, var4 and var6 are continuous numerical types."
   ]
  },
  {
   "cell_type": "code",
   "execution_count": 35,
   "id": "6af177c2",
   "metadata": {},
   "outputs": [
    {
     "data": {
      "image/png": "[encoded data removed]",
      "text/plain": [
       "<Figure size 1080x288 with 4 Axes>"
      ]
     },
     "metadata": {
      "needs_background": "light"
     },
     "output_type": "display_data"
    }
   ],
   "source": [
    "var = 'var4' ## var4 has highest (positive) skewness.\n",
    "fif, ax = plt.subplots(1,4, figsize=(15,4))\n",
    "ax[0].hist(train_data[var])\n",
    "ax[1].hist(np.log1p(train_data[var]))\n",
    "ax[2].hist(np.power(train_data[var], 0.25))\n",
    "ax[3].hist(np.power(train_data[var], 0.125))\n",
    "\n",
    "ax[0].set_title(var)\n",
    "ax[0].set_xlabel(var)\n",
    "ax[0].set_ylabel('count')\n",
    "\n",
    "var = 'log(var)'\n",
    "ax[1].set_title(var)\n",
    "ax[1].set_xlabel(var)\n",
    "ax[1].set_ylabel('count')\n",
    "\n",
    "var = 'sqrt(var)'\n",
    "ax[2].set_title(var)\n",
    "ax[2].set_xlabel(var)\n",
    "ax[2].set_ylabel('count')\n",
    "\n",
    "var = 'var^(1/4)'\n",
    "ax[3].set_title(var)\n",
    "ax[3].set_xlabel(var)\n",
    "ax[3].set_ylabel('count')\n",
    "\n",
    "plt.tight_layout()\n",
    "plt.show()"
   ]
  },
  {
   "cell_type": "code",
   "execution_count": 36,
   "id": "c01ba759",
   "metadata": {},
   "outputs": [
    {
     "data": {
      "image/png": "[encoded data removed]",
      "text/plain": [
       "<Figure size 1080x288 with 4 Axes>"
      ]
     },
     "metadata": {
      "needs_background": "light"
     },
     "output_type": "display_data"
    }
   ],
   "source": [
    "var = 'var2' ## For var2 skewness plus binning looks to be appropriate approach (not convered)\n",
    "fif, ax = plt.subplots(1,4, figsize=(15,4))\n",
    "ax[0].hist(train_data[var])\n",
    "ax[1].hist(np.log1p(train_data[var]))\n",
    "ax[2].hist(np.power(train_data[var], 0.25))\n",
    "ax[3].hist(np.power(train_data[var], 0.125))\n",
    "\n",
    "ax[0].set_title(var)\n",
    "ax[0].set_xlabel(var)\n",
    "ax[0].set_ylabel('count')\n",
    "\n",
    "var = 'log(var)'\n",
    "ax[1].set_title(var)\n",
    "ax[1].set_xlabel(var)\n",
    "ax[1].set_ylabel('count')\n",
    "\n",
    "var = 'sqrt(var)'\n",
    "ax[2].set_title(var)\n",
    "ax[2].set_xlabel(var)\n",
    "ax[2].set_ylabel('count')\n",
    "\n",
    "var = 'var^(1/4)'\n",
    "ax[3].set_title(var)\n",
    "ax[3].set_xlabel(var)\n",
    "ax[3].set_ylabel('count')\n",
    "\n",
    "plt.tight_layout()\n",
    "plt.show()"
   ]
  },
  {
   "cell_type": "code",
   "execution_count": 37,
   "id": "0616ea15",
   "metadata": {},
   "outputs": [
    {
     "data": {
      "image/png": "[encoded data removed]",
      "text/plain": [
       "<Figure size 720x432 with 2 Axes>"
      ]
     },
     "metadata": {
      "needs_background": "light"
     },
     "output_type": "display_data"
    }
   ],
   "source": [
    "## Correlation of the target variable with var2/3/4/5/6\n",
    "plt.figure(figsize=(10,6))\n",
    "sns.heatmap(train_data[['target','var2','var3','var4','var5','var6']].corr(), annot=True)\n",
    "plt.show()\n",
    "\n",
    "## Observations from heatmap matrix.\n",
    "# Target is strongly negatively correlated with var2, var3, and var4\n",
    "# var2 is strongly positively correlated with var4. Dropping one of them will reduce multicollinearity effect.\n",
    "# var2 is strongly positively correlated with var3. Dropping one of them will reduce multicollinearity effect.\n",
    "# Other combinations have medium to weak correlation."
   ]
  },
  {
   "cell_type": "code",
   "execution_count": 38,
   "id": "d94c4bcb",
   "metadata": {},
   "outputs": [
    {
     "data": {
      "text/plain": [
       "(392, 8)"
      ]
     },
     "execution_count": 38,
     "metadata": {},
     "output_type": "execute_result"
    }
   ],
   "source": [
    "## Exclude missing target variables\n",
    "train_data.dropna(inplace=True)\n",
    "# New size\n",
    "train_data.shape"
   ]
  },
  {
   "cell_type": "code",
   "execution_count": 39,
   "id": "67f6ba7a",
   "metadata": {},
   "outputs": [
    {
     "data": {
      "text/plain": [
       "127"
      ]
     },
     "execution_count": 39,
     "metadata": {},
     "output_type": "execute_result"
    }
   ],
   "source": [
    "train_data.target.nunique()"
   ]
  },
  {
   "cell_type": "markdown",
   "id": "6d53e4f1",
   "metadata": {},
   "source": [
    "### Model Training, Evaluation and Testing\n",
    "\n"
   ]
  },
  {
   "cell_type": "markdown",
   "id": "3a89a7c4",
   "metadata": {},
   "source": [
    "#### Classification Vs. Regression\n",
    "The target variable has integer values but there are 127 unique values. It is possible that there can be 127 distinct categories, however, given the dataset size the target variable is assumed to be continous variable, instead distinct categories. Hence, based on dataset target variable, building a regression model is most suitable than building a classification model. Thus, a regression modelling is choosen.\n",
    "\n",
    "#### Model selection\n",
    "- As there are just 392 samples (very small dataset) the simplest model can be used for training. Going with complex models (such as Random Forest, SVM, etc.) will not be beneficial rather would increase training time and may be highly over-fitted which in turn would lead to a lot of work in terms of tunning hyper parameters.\n",
    "- As majority of the features are numerical types, I would choose the regression model over other models such as decision tree.  \n",
    "- Hence, my choice goes with \"Linear Regression\" model - this is the most simplest form of rigression model and works well on small datasets. \n",
    "\n",
    "\n",
    "#### Approach\n",
    "- Started with data preprocessing to handle skewness, scale effect, etc., followed by base model training (on all the feature variables). In the next step, planned to improve model performance through several techniques such as hyper-parameter tunings, model stacking, ensembling, feature engineering (not applicable in this case, as features descriptions not available), multicollinearity handling, etc.\n",
    "- Lastly, the possible best model is used to make prediction on test datasets.\n",
    "\n",
    "#### Model Performance Evaluation\n",
    "- R^2 (R Squared) is used as performance metrics for model evaluation. R Squared represents the proportion of the variation in the dependent variable that is predictable from the independent variable. Range [ 0,1] where 0 value indicates that model is poor (fail to capture variation in the dataset) and 1 indicates the model has captured 100% of the variations of the target variable. The model with R^2 > 0.7 is considered to be good model and with R^2 ~ 1 is considered the best model.\n",
    "\n",
    "#### Miscellaneous\n",
    "- As the target variable has integer values, the output of the regression model is truncated to integer values."
   ]
  },
  {
   "cell_type": "code",
   "execution_count": 40,
   "id": "58749430",
   "metadata": {},
   "outputs": [],
   "source": [
    "# from sklearn import preprocessing, svm \n",
    "from sklearn.model_selection import train_test_split \n",
    "from sklearn.preprocessing import StandardScaler\n",
    "from sklearn.linear_model import LinearRegression \n",
    "from sklearn.metrics import mean_squared_error, r2_score"
   ]
  },
  {
   "cell_type": "code",
   "execution_count": 41,
   "id": "b919901b",
   "metadata": {},
   "outputs": [],
   "source": [
    "FEATURE_SET1 = ['var1', 'var2', 'var3', 'var4', 'var5', 'var6', 'var7']\n",
    "FEATURE_SET2 = ['var1', 'var3', 'var4', 'var5', 'var6', 'var7'] # Exclude 'var2' \n",
    "FEATURE_SET3 = ['var1', 'var2', 'var4', 'var5', 'var6', 'var7'] # Exclude 'var3'\n",
    "FEATURE_SET = (FEATURE_SET1, FEATURE_SET2, FEATURE_SET3)"
   ]
  },
  {
   "cell_type": "code",
   "execution_count": 42,
   "id": "61238ea3",
   "metadata": {},
   "outputs": [
    {
     "name": "stdout",
     "output_type": "stream",
     "text": [
      "(294, 7)\n",
      "(98, 7)\n",
      "Training Set: R Squared = 0.8174723069827782\n",
      "Validation Set: R Squared = 0.7774276570150279\n"
     ]
    }
   ],
   "source": [
    "############################### BASE MODEL #########################\n",
    "trainset = train_data.copy()\n",
    "FEATURES = FEATURE_SET[0]\n",
    "\n",
    "## Seperating data into features and target\n",
    "X = trainset[FEATURES]\n",
    "y = trainset['target'].values\n",
    "\n",
    "########## Scaling model\n",
    "scaler = StandardScaler().fit(X,y)\n",
    "X = scaler.transform(X)\n",
    "\n",
    "######## Split dataset into training and validation set.\n",
    "X_train, X_val, y_train, y_val = train_test_split(X, y, random_state=42)\n",
    "print(X_train.shape)\n",
    "print(X_val.shape)\n",
    "\n",
    "########### Base model [All feature variables are used.]\n",
    "lr_model = LinearRegression().fit(X_train, y_train) ## base model\n",
    "## Model Evaluation\n",
    "y_pred = lr_model.predict(X_val).astype(int)\n",
    "print('Training Set: R Squared = {}'.format(r2_score(y_train, lr_model.predict(X_train)))) \n",
    "print('Validation Set: R Squared = {}'.format(r2_score(y_val, y_pred))) ## R^2 ~ 78% Good performance"
   ]
  },
  {
   "cell_type": "code",
   "execution_count": 43,
   "id": "8e6db214",
   "metadata": {},
   "outputs": [
    {
     "name": "stdout",
     "output_type": "stream",
     "text": [
      "R Squared = 0.7952848143585124\n"
     ]
    }
   ],
   "source": [
    "############################### Model Version 1: Handled var4 Skewness #########################\n",
    "trainset = train_data.copy()\n",
    "FEATURES = FEATURE_SET[0]\n",
    "\n",
    "## correcting skewness of var4\n",
    "trainset['var4'] = np.power(trainset['var4'], 0.25) \n",
    "\n",
    "## Seperating data into features and target\n",
    "X = trainset[FEATURES]\n",
    "y = trainset['target'].values\n",
    "\n",
    "########## Scaling model\n",
    "scaler = StandardScaler().fit(X,y)\n",
    "X = scaler.transform(X)\n",
    "\n",
    "######## Split dataset into training and validation set.\n",
    "X_train, X_val, y_train, y_val = train_test_split(X, y, random_state=42)\n",
    "# print(X_train.shape)\n",
    "# print(X_val.shape)\n",
    "\n",
    "########### Base model [All feature variables are used.]\n",
    "lr_model_v1 = LinearRegression().fit(X_train, y_train) \n",
    "## Model Evaluation\n",
    "y_pred = lr_model_v1.predict(X_val).astype(int)\n",
    "print('R Squared = {}'.format(r2_score(y_val, y_pred))) ## R^2 ~ 79% (Improved R2 by 1%)"
   ]
  },
  {
   "cell_type": "code",
   "execution_count": 44,
   "id": "fade5abb",
   "metadata": {},
   "outputs": [
    {
     "name": "stdout",
     "output_type": "stream",
     "text": [
      "R Squared = 0.8005848838896836\n"
     ]
    }
   ],
   "source": [
    "############################### Model Version 2: Handled var4 Skewness + FEATURE_SET2 #########################\n",
    "trainset = train_data.copy()\n",
    "FEATURES = FEATURE_SET[1]\n",
    "\n",
    "## correcting skewness of var4\n",
    "trainset['var4'] = np.power(trainset['var4'], 0.25)\n",
    "\n",
    "## Seperating data into features and target\n",
    "X = trainset[FEATURES]\n",
    "y = trainset['target'].values\n",
    "\n",
    "########## Scaling model\n",
    "scaler = StandardScaler().fit(X,y)\n",
    "X = scaler.transform(X)\n",
    "\n",
    "######## Split dataset into training and validation set.\n",
    "X_train, X_val, y_train, y_val = train_test_split(X, y, random_state=42)\n",
    "# print(X_train.shape)\n",
    "# print(X_val.shape)\n",
    "\n",
    "########### Version 2 model\n",
    "lr_model_v2 = LinearRegression().fit(X_train, y_train) \n",
    "## Model Evaluation\n",
    "y_pred = lr_model_v2.predict(X_val).astype(int)\n",
    "print('R Squared = {}'.format(r2_score(y_val, y_pred))) ## Good performance (best score so far)"
   ]
  },
  {
   "cell_type": "code",
   "execution_count": 45,
   "id": "02b7fb14",
   "metadata": {},
   "outputs": [
    {
     "name": "stdout",
     "output_type": "stream",
     "text": [
      "R Squared = 0.7936132539679123\n"
     ]
    }
   ],
   "source": [
    "############################### Model Version 2: Handled var4 Skewness + FEATURE_SET3 #########################\n",
    "trainset = train_data.copy()\n",
    "FEATURES = FEATURE_SET[2]\n",
    "\n",
    "## correcting skewness of var4\n",
    "trainset['var4'] = np.power(trainset['var4'], 0.25)\n",
    "\n",
    "## Seperating data into features and target\n",
    "X = trainset[FEATURES]\n",
    "y = trainset['target'].values\n",
    "\n",
    "########## Scaling model\n",
    "scaler = StandardScaler().fit(X,y)\n",
    "X = scaler.transform(X)\n",
    "\n",
    "######## Split dataset into training and validation set.\n",
    "X_train, X_val, y_train, y_val = train_test_split(X, y, random_state=42)\n",
    "# print(X_train.shape)\n",
    "# print(X_val.shape)\n",
    "\n",
    "########### Version 3 model\n",
    "lr_model_v3 = LinearRegression().fit(X_train, y_train) \n",
    "## Model Evaluation\n",
    "y_pred = lr_model_v3.predict(X_val).astype(int)\n",
    "print('R Squared = {}'.format(r2_score(y_val, y_pred))) ## Good performance"
   ]
  },
  {
   "cell_type": "markdown",
   "id": "46772e5c",
   "metadata": {},
   "source": [
    "######  Table: Model Performance on Validation Set\n",
    "\n",
    "| Model Version | R^2 (%) | Description |\n",
    "| --- | --- | --- |\n",
    "| Version0 | 77.74 | Base model using all feature variables |\n",
    "| Version1 | 79.52 | Handled skewness of feature var4 + all features |\n",
    "| Version2 | 80 | Handled skewness of feature var4 + all features except var2 |\n",
    "| Version3 | 79.36 | Handled skewness of feature var4 + all features except var3 |\n",
    "\n",
    "Version2 is best performance."
   ]
  },
  {
   "cell_type": "markdown",
   "id": "df195012",
   "metadata": {},
   "source": [
    "#### Prediction: Prediction on test dataset using final model object"
   ]
  },
  {
   "cell_type": "code",
   "execution_count": 46,
   "id": "ba88d2bd",
   "metadata": {},
   "outputs": [
    {
     "data": {
      "text/html": [
       "<div>\n",
       "<style scoped>\n",
       "    .dataframe tbody tr th:only-of-type {\n",
       "        vertical-align: middle;\n",
       "    }\n",
       "\n",
       "    .dataframe tbody tr th {\n",
       "        vertical-align: top;\n",
       "    }\n",
       "\n",
       "    .dataframe thead th {\n",
       "        text-align: right;\n",
       "    }\n",
       "</style>\n",
       "<table border=\"1\" class=\"dataframe\">\n",
       "  <thead>\n",
       "    <tr style=\"text-align: right;\">\n",
       "      <th></th>\n",
       "      <th>target</th>\n",
       "      <th>var1</th>\n",
       "      <th>var2</th>\n",
       "      <th>var3</th>\n",
       "      <th>var4</th>\n",
       "      <th>var5</th>\n",
       "      <th>var6</th>\n",
       "      <th>var7</th>\n",
       "    </tr>\n",
       "  </thead>\n",
       "  <tbody>\n",
       "    <tr>\n",
       "      <th>0</th>\n",
       "      <td>17</td>\n",
       "      <td>6</td>\n",
       "      <td>232</td>\n",
       "      <td>100</td>\n",
       "      <td>3288</td>\n",
       "      <td>15.5</td>\n",
       "      <td>71</td>\n",
       "      <td>1</td>\n",
       "    </tr>\n",
       "    <tr>\n",
       "      <th>1</th>\n",
       "      <td>13</td>\n",
       "      <td>8</td>\n",
       "      <td>318</td>\n",
       "      <td>150</td>\n",
       "      <td>4237</td>\n",
       "      <td>14.5</td>\n",
       "      <td>73</td>\n",
       "      <td>1</td>\n",
       "    </tr>\n",
       "  </tbody>\n",
       "</table>\n",
       "</div>"
      ],
      "text/plain": [
       "   target  var1  var2  var3  var4  var5  var6  var7\n",
       "0      17     6   232   100  3288  15.5    71     1\n",
       "1      13     8   318   150  4237  14.5    73     1"
      ]
     },
     "execution_count": 46,
     "metadata": {},
     "output_type": "execute_result"
    }
   ],
   "source": [
    "## Applying same preprocessing steps on test set\n",
    "X_test = test_data.copy()\n",
    "X_test['var4'] = np.power(X_test['var4'], 0.25)\n",
    "X_test = X_test[FEATURE_SET[2]]\n",
    "X_test = scaler.transform(X_test) ## scaling feature\n",
    "\n",
    "# Prediction using best model\n",
    "best_model = lr_model_v2\n",
    "test_data['target'] = best_model.predict(X_test).astype(int)\n",
    "test_data.head()"
   ]
  },
  {
   "cell_type": "markdown",
   "id": "c1db5c35",
   "metadata": {},
   "source": [
    "#### Model Performance Improvement Future Scope: The below techniques can be leveraged to further improve R Squared value (currently 0.8). Currently, due to shortage of time can be experimented more.\n",
    "1. Hyper-parameter tunning - Looks less promising as Rigression model has few parameters.\n",
    "2. Model Stacking & Ensembling - This can improve model performance by marginal values.\n",
    "3. Feature Engineering - Creating strong features using exising data (must know feature details to do so)\n",
    "4. Applying statistical techniques to handle skewness of the numerical features - For example: var2 can be replaced with binned values.\n",
    "5. Lastly, increasing dataset size by including more samples."
   ]
  },
  {
   "cell_type": "code",
   "execution_count": null,
   "id": "73ee3d30",
   "metadata": {},
   "outputs": [],
   "source": []
  }
 ],
 "metadata": {
  "kernelspec": {
   "display_name": "Python 3 (ipykernel)",
   "language": "python",
   "name": "python3"
  },
  "language_info": {
   "codemirror_mode": {
    "name": "ipython",
    "version": 3
   },
   "file_extension": ".py",
   "mimetype": "text/x-python",
   "name": "python",
   "nbconvert_exporter": "python",
   "pygments_lexer": "ipython3",
   "version": "3.9.7"
  }
 },
 "nbformat": 4,
 "nbformat_minor": 5
}
